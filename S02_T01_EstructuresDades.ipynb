{
 "cells": [
  {
   "cell_type": "markdown",
   "id": "5a676f9e",
   "metadata": {},
   "source": [
    "## Exercici 1"
   ]
  },
  {
   "cell_type": "code",
   "execution_count": 9,
   "id": "7bda1ecf",
   "metadata": {},
   "outputs": [
    {
     "name": "stdout",
     "output_type": "stream",
     "text": [
      "[['January', 'February', 'March'], ['April', 'May', 'June'], ['July', 'August', 'September'], ['October', 'November', 'December']]\n"
     ]
    }
   ],
   "source": [
    "T1 = [\"January\", \"February\", \"March\"]\n",
    "T2 = [\"April\", \"May\", \"June\"]\n",
    "T3 = [\"July\", \"August\", \"September\"]\n",
    "T4 = [\"October\", \"November\",\"December\"]\n",
    "YearList = [T1,T2,T3,T4];\n",
    "print(YearList)\n"
   ]
  },
  {
   "cell_type": "markdown",
   "id": "775b4283",
   "metadata": {},
   "source": [
    "## Exercici 2"
   ]
  },
  {
   "cell_type": "code",
   "execution_count": 47,
   "id": "ecc2532f",
   "metadata": {},
   "outputs": [
    {
     "data": {
      "text/plain": [
       "'February'"
      ]
     },
     "execution_count": 47,
     "metadata": {},
     "output_type": "execute_result"
    }
   ],
   "source": [
    "T1 = [\"January\", \"February\", \"March\"]\n",
    "T2 = [\"April\", \"May\", \"June\"]\n",
    "T3 = [\"July\", \"August\", \"September\"]\n",
    "T4 = [\"October\", \"November\",\"December\"]\n",
    "YearList = [T1,T2,T3,T4];\n",
    "YearList[0][1]"
   ]
  },
  {
   "cell_type": "code",
   "execution_count": 48,
   "id": "ada95e9e",
   "metadata": {},
   "outputs": [
    {
     "data": {
      "text/plain": [
       "['January', 'February', 'March']"
      ]
     },
     "execution_count": 48,
     "metadata": {},
     "output_type": "execute_result"
    }
   ],
   "source": [
    "T1 = [\"January\", \"February\", \"March\"]\n",
    "T2 = [\"April\", \"May\", \"June\"]\n",
    "T3 = [\"July\", \"August\", \"September\"]\n",
    "T4 = [\"October\", \"November\",\"December\"]\n",
    "YearList = [T1,T2,T3,T4];\n",
    "YearList[0]"
   ]
  },
  {
   "cell_type": "code",
   "execution_count": 57,
   "id": "0454e239",
   "metadata": {},
   "outputs": [
    {
     "data": {
      "text/plain": [
       "('September', 'October')"
      ]
     },
     "execution_count": 57,
     "metadata": {},
     "output_type": "execute_result"
    }
   ],
   "source": [
    "T1 = [\"January\", \"February\", \"March\"]\n",
    "T2 = [\"April\", \"May\", \"June\"]\n",
    "T3 = [\"July\", \"August\", \"September\"]\n",
    "T4 = [\"October\", \"November\",\"December\"]\n",
    "YearList = [T1,T2,T3,T4];\n",
    "value1 = \"September\"\n",
    "value2 = \"October\"\n",
    "YearList = [T1,T2,T3,T4];\n",
    "YearList[2][2], YearList[3][0]\n"
   ]
  },
  {
   "cell_type": "markdown",
   "id": "e406fb5b",
   "metadata": {},
   "source": [
    "## Exercici 3"
   ]
  },
  {
   "cell_type": "code",
   "execution_count": 29,
   "id": "35657dc8",
   "metadata": {
    "scrolled": true
   },
   "outputs": [
    {
     "name": "stdout",
     "output_type": "stream",
     "text": [
      "Total numbers of the list 5 .\n"
     ]
    }
   ],
   "source": [
    "numList = [\"1\", \"3\", \"8\", \"6\", \"5\"]\n",
    "print(\"Total numbers of the list\",len(numList),\".\")"
   ]
  },
  {
   "cell_type": "code",
   "execution_count": 24,
   "id": "2d244bb0",
   "metadata": {},
   "outputs": [
    {
     "name": "stdout",
     "output_type": "stream",
     "text": [
      "Yes, 3 is in the list 1 times.\n"
     ]
    }
   ],
   "source": [
    "numList = [\"1\", \"3\", \"8\", \"6\", \"5\"]\n",
    "if \"3\" in numList:\n",
    "    x = numList.count(\"3\")\n",
    "    print (\"Yes, 3 is in the list\", x, \"times.\")\n",
    "else:\n",
    "    print (\"No, 3 is not in the list.\")"
   ]
  },
  {
   "cell_type": "code",
   "execution_count": 62,
   "id": "0bf5f04b",
   "metadata": {},
   "outputs": [
    {
     "name": "stdout",
     "output_type": "stream",
     "text": [
      "1 0\n"
     ]
    }
   ],
   "source": [
    "numList = [\"1\", \"3\", \"8\", \"6\", \"5\"]\n",
    "x = numList.count(\"3\")\n",
    "y = numList.count(\"4\")\n",
    "print(x, y)"
   ]
  },
  {
   "cell_type": "code",
   "execution_count": 31,
   "id": "5ec0fbd6",
   "metadata": {},
   "outputs": [
    {
     "name": "stdout",
     "output_type": "stream",
     "text": [
      "The maximum value of the list is 8 .\n"
     ]
    }
   ],
   "source": [
    "numList = [\"1\", \"3\", \"8\", \"6\", \"5\"]\n",
    "x = max(numList)\n",
    "print (\"The maximum value of the list is\", x,\".\")"
   ]
  },
  {
   "cell_type": "code",
   "execution_count": 39,
   "id": "f2d032c4",
   "metadata": {},
   "outputs": [
    {
     "name": "stdout",
     "output_type": "stream",
     "text": [
      "The 3 smallest numbers of the list are: ['1', '3', '5'] .\n"
     ]
    }
   ],
   "source": [
    "numList = [\"1\", \"3\", \"8\", \"6\", \"5\"]\n",
    "print(\"The 3 smallest numbers of the list are:\",sorted(numList)[:3],\".\")\n"
   ]
  },
  {
   "cell_type": "code",
   "execution_count": 117,
   "id": "79cfe0fd",
   "metadata": {},
   "outputs": [
    {
     "name": "stdout",
     "output_type": "stream",
     "text": [
      "7\n"
     ]
    }
   ],
   "source": [
    "numList = [1, 3, 8, 6, 5]\n",
    "rang = (max(numList)) - (min(numList))\n",
    "print(rang)"
   ]
  },
  {
   "cell_type": "markdown",
   "id": "980abb80",
   "metadata": {},
   "source": [
    "## Exercici 4"
   ]
  },
  {
   "cell_type": "code",
   "execution_count": 42,
   "id": "45af3f18",
   "metadata": {},
   "outputs": [
    {
     "name": "stdout",
     "output_type": "stream",
     "text": [
      "{'Pomes': {'Qty': 5, '€': 0.42}, 'Peres': {'Qty': 3, '€': 0.66}, 'Kiwis': {'Qty': 6, '€': 0.96}}\n"
     ]
    }
   ],
   "source": [
    "compra = { \n",
    "    \"Pomes\" : {\"Qty\": 5, \"€\": 0.42}, \n",
    "    \"Peres\" : {\"Qty\": 3, \"€\": 0.66} }\n",
    "compra [\"Kiwis\"] = {\"Qty\": 6, \"€\": 0.96}\n",
    "print(compra)"
   ]
  },
  {
   "cell_type": "code",
   "execution_count": 98,
   "id": "0599cdef",
   "metadata": {},
   "outputs": [
    {
     "name": "stdout",
     "output_type": "stream",
     "text": [
      "1.98\n"
     ]
    }
   ],
   "source": [
    "compra = { \n",
    "    \"Pomes\" : {\"Qty\": 5, \"€\": 0.42}, \n",
    "    \"Peres\" : {\"Qty\": 3, \"€\": 0.66},\n",
    "    \"Kiwis\" : {\"Qty\": 6, \"€\": 0.96}}\n",
    "preuPeres = (compra[\"Peres\"][\"Qty\"])*((compra[\"Peres\"][\"€\"]))\n",
    "print (preuPeres)"
   ]
  },
  {
   "cell_type": "code",
   "execution_count": 104,
   "id": "88b3150d",
   "metadata": {},
   "outputs": [
    {
     "name": "stdout",
     "output_type": "stream",
     "text": [
      "9.84\n"
     ]
    }
   ],
   "source": [
    "compra = { \n",
    "    \"Pomes\" : {\"Qty\": 5, \"€\": 0.42}, \n",
    "    \"Peres\" : {\"Qty\": 3, \"€\": 0.66},\n",
    "    \"Kiwis\" : {\"Qty\": 6, \"€\": 0.96}}\n",
    "preuPomes = (compra[\"Pomes\"][\"Qty\"])*((compra[\"Pomes\"][\"€\"]))\n",
    "preuPeres = (compra[\"Peres\"][\"Qty\"])*((compra[\"Peres\"][\"€\"]))\n",
    "preuKiwis = (compra[\"Kiwis\"][\"Qty\"])*((compra[\"Kiwis\"][\"€\"]))\n",
    "preuTotal = (preuPomes + preuPeres + preuKiwis)\n",
    "print (preuTotal)"
   ]
  },
  {
   "cell_type": "code",
   "execution_count": 108,
   "id": "3e07b236",
   "metadata": {},
   "outputs": [
    {
     "data": {
      "text/plain": [
       "'Kiwis'"
      ]
     },
     "execution_count": 108,
     "metadata": {},
     "output_type": "execute_result"
    }
   ],
   "source": [
    "compra = { \n",
    "    \"Pomes\" : {\"Qty\": 5, \"€\": 0.42}, \n",
    "    \"Peres\" : {\"Qty\": 3, \"€\": 0.66},\n",
    "    \"Kiwis\" : {\"Qty\": 6, \"€\": 0.96}}\n",
    "preuPomes = (compra[\"Pomes\"][\"Qty\"])*((compra[\"Pomes\"][\"€\"]))\n",
    "preuPeres = (compra[\"Peres\"][\"Qty\"])*((compra[\"Peres\"][\"€\"]))\n",
    "preuPeres = (compra[\"Kiwis\"][\"Qty\"])*((compra[\"Kiwis\"][\"€\"]))\n",
    "preuTotal = {preuPomes:\"Pomes\", preuPeres:\"Peres\", preuKiwis:\"Kiwis\"}\n",
    "max(preuTotal)\n",
    "preuTotal.get(max(preuTotal))"
   ]
  },
  {
   "cell_type": "code",
   "execution_count": null,
   "id": "2e51837f",
   "metadata": {},
   "outputs": [],
   "source": []
  }
 ],
 "metadata": {
  "kernelspec": {
   "display_name": "Python 3 (ipykernel)",
   "language": "python",
   "name": "python3"
  },
  "language_info": {
   "codemirror_mode": {
    "name": "ipython",
    "version": 3
   },
   "file_extension": ".py",
   "mimetype": "text/x-python",
   "name": "python",
   "nbconvert_exporter": "python",
   "pygments_lexer": "ipython3",
   "version": "3.9.7"
  }
 },
 "nbformat": 4,
 "nbformat_minor": 5
}
